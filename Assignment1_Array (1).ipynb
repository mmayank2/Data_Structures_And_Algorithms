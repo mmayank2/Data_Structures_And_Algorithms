{
 "cells": [
  {
   "cell_type": "markdown",
   "id": "8b090cb2",
   "metadata": {},
   "source": [
    "# <u><bold>Assignment1_Array DSA </bold></u>"
   ]
  },
  {
   "cell_type": "markdown",
   "id": "c4f125ae-3a3f-43b8-aeb1-536860eb769c",
   "metadata": {},
   "source": [
    "\n",
    "💡 **Q1.** Given an array of integers nums and an integer target, return indices of the two numbers such that they add up to target.\n",
    "\n",
    "You may assume that each input would have exactly one solution, and you may not use the same element twice.\n",
    "\n",
    "You can return the answer in any order.\n",
    "<br>\n",
    "Input: nums = [2,7,11,15], target = 9\n",
    "Output0 [0,1]"
   ]
  },
  {
   "cell_type": "markdown",
   "id": "f448fd42-0fe9-4596-ae06-30bbf02fcbdb",
   "metadata": {},
   "source": [
    "<font color=\"red\">Answer :-</font>"
   ]
  },
  {
   "cell_type": "code",
   "execution_count": 1,
   "id": "1cc0a3e6-df72-4abe-aadc-10efc1e26097",
   "metadata": {},
   "outputs": [],
   "source": [
    "import time as t"
   ]
  },
  {
   "cell_type": "code",
   "execution_count": 2,
   "id": "485ce44b-5d3e-417c-881b-8d7ecd42db5c",
   "metadata": {},
   "outputs": [],
   "source": [
    "def finding_index(nums,target):\n",
    "    for i in range(len(nums)):\n",
    "        for j in range(i+1,len(nums)):\n",
    "            if nums[i]+nums[j]==target:\n",
    "                print([i,j])\n",
    "                return\n",
    "    \n",
    "    return(\"Target not achieve\")"
   ]
  },
  {
   "cell_type": "code",
   "execution_count": 3,
   "id": "b04c1842-85f8-4dfa-8e5b-8f84f2b12b79",
   "metadata": {},
   "outputs": [
    {
     "name": "stdout",
     "output_type": "stream",
     "text": [
      "[0, 1]\n"
     ]
    }
   ],
   "source": [
    "finding_index([2,7,11,15],9)"
   ]
  },
  {
   "cell_type": "markdown",
   "id": "2e4b4476-97ff-485d-acc0-1e107d56334a",
   "metadata": {},
   "source": [
    "\n",
    "💡 **Q2.** Given an integer array nums and an integer val, remove all occurrences of val in nums in-place. The order of the elements may be changed. Then return the number of elements in nums which are not equal to val.\n",
    "\n",
    "Consider the number of elements in nums which are not equal to val be k, to get accepted, you need to do the following things:\n",
    "\n",
    "- Change the array nums such that the first k elements of nums contain the elements which are not equal to val. The remaining elements of nums are not important as well as the size of nums.\n",
    "- Return k.\n"
   ]
  },
  {
   "cell_type": "markdown",
   "id": "4b4842a9-0ed0-4cb2-8d6b-a88dfe25f227",
   "metadata": {},
   "source": [
    "Example :\n",
    "Input: nums = [3,2,2,3], val = 3 <br>\n",
    "Output: 2, nums = [2,2,_,_]"
   ]
  },
  {
   "cell_type": "markdown",
   "id": "31eca7fe",
   "metadata": {},
   "source": [
    "<font color=\"red\">Answer:- </font>"
   ]
  },
  {
   "cell_type": "code",
   "execution_count": 4,
   "id": "e1e54268-2687-4716-b9cd-9626cc7383ea",
   "metadata": {},
   "outputs": [],
   "source": [
    "def remove_number(nums,val):\n",
    "    count=0\n",
    "    for i in range(len(nums)):\n",
    "        if nums[i]!=val:\n",
    "            nums[i],nums[count]=nums[count],nums[i]\n",
    "            count+=1\n",
    "    return count,nums[:count]"
   ]
  },
  {
   "cell_type": "code",
   "execution_count": 5,
   "id": "9b647044-f7df-4700-9c0d-ca4bce85a5e0",
   "metadata": {},
   "outputs": [
    {
     "data": {
      "text/plain": [
       "(2, [2, 2])"
      ]
     },
     "execution_count": 5,
     "metadata": {},
     "output_type": "execute_result"
    }
   ],
   "source": [
    "remove_number([3,2,2,3],3)"
   ]
  },
  {
   "cell_type": "markdown",
   "id": "9079018f-c340-4eb3-b53e-345ea1941221",
   "metadata": {},
   "source": [
    "\n",
    "💡 **Q3.** Given a sorted array of distinct integers and a target value, return the index if the target is found. If not, return the index where it would be if it were inserted in order.\n",
    "\n",
    "You must write an algorithm with O(log n) runtime complexity.\n"
   ]
  },
  {
   "cell_type": "markdown",
   "id": "f2122f7b-e94b-4ce6-8e4d-1e0aaeb60e12",
   "metadata": {},
   "source": [
    "**Example 1:**\n",
    "Input: nums = [1,3,5,6], target = 5\n",
    "\n",
    "Output: 2"
   ]
  },
  {
   "cell_type": "markdown",
   "id": "6fc40ec8",
   "metadata": {},
   "source": [
    "<font color=\"red\">Answer:- </font>"
   ]
  },
  {
   "cell_type": "code",
   "execution_count": 6,
   "id": "33d38474-cb60-4d90-8c81-dfd30449e333",
   "metadata": {},
   "outputs": [],
   "source": [
    "# Here nums is a list and se is a target \n",
    "# we return index if target found as well as (target not found) place were target can insert \n",
    "def number_finder(nums,se):\n",
    "    l=0\n",
    "    u=len(nums)-1\n",
    "   # se=int(input())\n",
    "    while l<=u:\n",
    "        mid=(l+u)//2\n",
    "        if se==nums[mid]:\n",
    "            return mid\n",
    "        elif se>nums[mid]:\n",
    "            l=mid+1\n",
    "        else:\n",
    "            u=mid-1\n",
    "    return l"
   ]
  },
  {
   "cell_type": "code",
   "execution_count": 7,
   "id": "ffddac28-c3f9-4223-a000-0684aec140b6",
   "metadata": {},
   "outputs": [
    {
     "data": {
      "text/plain": [
       "2"
      ]
     },
     "execution_count": 7,
     "metadata": {},
     "output_type": "execute_result"
    }
   ],
   "source": [
    "number_finder([1,3,5,6],5)"
   ]
  },
  {
   "cell_type": "markdown",
   "id": "4545fc42-4489-4699-8161-25760d09fe4b",
   "metadata": {},
   "source": [
    "\n",
    "💡 **Q4.** You are given a large integer represented as an integer array digits, where each digits[i] is the ith digit of the integer. The digits are ordered from most significant to least significant in left-to-right order. The large integer does not contain any leading 0's.\n",
    "\n",
    "Increment the large integer by one and return the resulting array of digits.\n",
    "\n",
    "**Example 1:**\n",
    "Input: digits = [1,2,3] <br>\n",
    "Output: [1,2,4]\n"
   ]
  },
  {
   "cell_type": "markdown",
   "id": "ebb9d40d-74bb-44e3-b3aa-93dd9f455967",
   "metadata": {},
   "source": [
    "<font color=\"red\">Answer :- </font>"
   ]
  },
  {
   "cell_type": "code",
   "execution_count": 8,
   "id": "ad000757-06ce-486c-aa7f-e0d2c178537d",
   "metadata": {},
   "outputs": [],
   "source": [
    "def increaseby1(digits):\n",
    "    c = 1  \n",
    "    result = []\n",
    "\n",
    "    for i in range(len(digits)-1, -1, -1):\n",
    "        sum_dig = digits[i] + c\n",
    "        result.append(sum_dig % 10)\n",
    "        c = sum_dig // 10\n",
    "\n",
    "    if c != 0:\n",
    "        result.append(c)\n",
    "\n",
    "    return result[::-1]"
   ]
  },
  {
   "cell_type": "code",
   "execution_count": 9,
   "id": "81000a9b-d303-4b21-bd7d-f54c3a99d1b1",
   "metadata": {},
   "outputs": [
    {
     "name": "stdout",
     "output_type": "stream",
     "text": [
      "[1, 2, 4]\n"
     ]
    }
   ],
   "source": [
    "digits = [1,2,3]\n",
    "print(increaseby1(digits))"
   ]
  },
  {
   "cell_type": "markdown",
   "id": "8c82b212-898b-41e4-8fab-cf192faadf59",
   "metadata": {},
   "source": [
    "\n",
    "💡 **Q5.** You are given two integer arrays nums1 and nums2, sorted in non-decreasing order, and two integers m and n, representing the number of elements in nums1 and nums2 respectively.\n",
    "\n",
    "Merge nums1 and nums2 into a single array sorted in non-decreasing order.\n",
    "\n",
    "The final sorted array should not be returned by the function, but instead be stored inside the array nums1. To accommodate this, nums1 has a length of m + n, where the first m elements denote the elements that should be merged, and the last n elements are set to 0 and should be ignored. nums2 has a length of n.\n"
   ]
  },
  {
   "cell_type": "markdown",
   "id": "2ef7be00-47a5-47b6-b2bf-2632e81b657d",
   "metadata": {},
   "source": [
    "Input: nums1 = [1,2,3,0,0,0], m = 3, nums2 = [2,5,6], n = 3  \n",
    "<br>\n",
    "Output: [1,2,2,3,5,6]"
   ]
  },
  {
   "cell_type": "markdown",
   "id": "081b8d51-5854-4e69-a125-672ce10e00cf",
   "metadata": {},
   "source": [
    "<font color=\"red\">Answer:- </font>"
   ]
  },
  {
   "cell_type": "code",
   "execution_count": 10,
   "id": "835ff0fd-ea43-4340-855b-ef9c12fe74fa",
   "metadata": {},
   "outputs": [],
   "source": [
    "def merge2num(num1, m, num2, n):\n",
    "    i = m - 1\n",
    "    j = n - 1\n",
    "    k = len(num1) - 1\n",
    "    while i >= 0 and j >= 0:\n",
    "        if num1[i] > num2[j]:\n",
    "            num1[k] = num1[i]\n",
    "            i -= 1\n",
    "        else:\n",
    "            num1[k] = num2[j]\n",
    "            j -= 1\n",
    "        k -= 1\n",
    "    while j >= 0:\n",
    "        num1[k] = num2[j]\n",
    "        j -= 1\n",
    "        k -= 1\n"
   ]
  },
  {
   "cell_type": "code",
   "execution_count": 11,
   "id": "0851180c-2e08-44d3-84a0-a214045c00c0",
   "metadata": {},
   "outputs": [
    {
     "data": {
      "text/plain": [
       "[1, 2, 2, 3, 5, 6]"
      ]
     },
     "execution_count": 11,
     "metadata": {},
     "output_type": "execute_result"
    }
   ],
   "source": [
    "num1=[1,2,3,0,0,0]\n",
    "num2=[2,5,6]\n",
    "m=3\n",
    "n=3\n",
    "merge2num(num1,m,num2,n)\n",
    "num1"
   ]
  },
  {
   "cell_type": "markdown",
   "id": "0c196e33-5fc8-46b4-b210-445e5300fee1",
   "metadata": {},
   "source": [
    "\n",
    "💡 **Q6.** Given an integer array nums, return true if any value appears at least twice in the array, and return false if every element is distinct.\n",
    "\n",
    "**Example 1:**\n",
    "Input: nums = [1,2,3,1]\n",
    "\n",
    "Output: true\n"
   ]
  },
  {
   "cell_type": "markdown",
   "id": "c444761d-75e2-4704-b0df-7a7505a32134",
   "metadata": {},
   "source": [
    "<font color=\"red\">Answer:-</font>"
   ]
  },
  {
   "cell_type": "code",
   "execution_count": 12,
   "id": "c44c8e3a-d122-4fe5-8e69-b01de94690d8",
   "metadata": {},
   "outputs": [],
   "source": [
    "def distictnumber(nums):\n",
    "    s1=set()\n",
    "    for i in nums:\n",
    "        if i in s1:\n",
    "            return True\n",
    "        else:\n",
    "            s1.add(i)\n",
    "    return False"
   ]
  },
  {
   "cell_type": "code",
   "execution_count": 13,
   "id": "5851be80-a15b-4325-8e77-f28e2ec11e6e",
   "metadata": {},
   "outputs": [
    {
     "data": {
      "text/plain": [
       "True"
      ]
     },
     "execution_count": 13,
     "metadata": {},
     "output_type": "execute_result"
    }
   ],
   "source": [
    "distictnumber([1,2,3,4,1])"
   ]
  },
  {
   "cell_type": "markdown",
   "id": "3a1a28e0-9688-45ae-9b68-8f697d4d7ad1",
   "metadata": {},
   "source": [
    "\n",
    "💡 **Q7.** Given an integer array nums, move all 0's to the end of it while maintaining the relative order of the nonzero elements.\n",
    "\n",
    "Note that you must do this in-place without making a copy of the array.\n",
    "\n",
    "**Example 1:**\n",
    "Input: nums = [0,1,0,3,12] \n",
    "<br>\n",
    "Output: [1,3,12,0,0]\n"
   ]
  },
  {
   "cell_type": "markdown",
   "id": "b5e5fa59",
   "metadata": {},
   "source": [
    "<font color=\"red\">Answer:- </font>"
   ]
  },
  {
   "cell_type": "code",
   "execution_count": 14,
   "id": "3a3edb04",
   "metadata": {},
   "outputs": [],
   "source": [
    " def moveZeroes(nums):\n",
    "    count_zero = 0  \n",
    "    for i in range(len(nums)):\n",
    "        if nums[i] == 0:\n",
    "            count_zero += 1  \n",
    "        elif count_zero > 0:\n",
    "            nums[i - count_zero] = nums[i]  \n",
    "    for i in range(len(nums) - count_zero, len(nums)):\n",
    "        nums[i] = 0\n",
    "    return nums"
   ]
  },
  {
   "cell_type": "code",
   "execution_count": 15,
   "id": "a9c7f7e8",
   "metadata": {},
   "outputs": [
    {
     "data": {
      "text/plain": [
       "[1, 3, 12, 0, 0]"
      ]
     },
     "execution_count": 15,
     "metadata": {},
     "output_type": "execute_result"
    }
   ],
   "source": [
    "moveZeroes([0,1,0,3,12])"
   ]
  },
  {
   "cell_type": "markdown",
   "id": "1f92ec1a",
   "metadata": {},
   "source": [
    "\n",
    "💡 **Q8.** You have a set of integers s, which originally contains all the numbers from 1 to n. Unfortunately, due to some error, one of the numbers in s got duplicated to another number in the set, which results in repetition of one number and loss of another number.\n",
    "\n",
    "You are given an integer array nums representing the data status of this set after the error.\n",
    "\n",
    "Find the number that occurs twice and the number that is missing and return them in the form of an array.\n",
    "\n",
    "**Example 1:**\n",
    "Input: nums = [1,2,2,4] <br>\n",
    "Output: [2,3]\n"
   ]
  },
  {
   "cell_type": "markdown",
   "id": "9f65b18b",
   "metadata": {},
   "source": [
    "<font color=\"red\">Answer:- </font>"
   ]
  },
  {
   "cell_type": "code",
   "execution_count": 16,
   "id": "0e652178",
   "metadata": {},
   "outputs": [],
   "source": [
    "nums=[1,2,3,4,4,6,7]"
   ]
  },
  {
   "cell_type": "code",
   "execution_count": 17,
   "id": "f1658838",
   "metadata": {},
   "outputs": [],
   "source": [
    "def repeat(nums):\n",
    "    real=1\n",
    "    for i in range(len(nums)):\n",
    "        if nums[i]!=real:\n",
    "             return [nums[i],real]\n",
    "        else:\n",
    "            real+=1"
   ]
  },
  {
   "cell_type": "code",
   "execution_count": 18,
   "id": "53cb7d9e",
   "metadata": {},
   "outputs": [
    {
     "data": {
      "text/plain": [
       "[4, 5]"
      ]
     },
     "execution_count": 18,
     "metadata": {},
     "output_type": "execute_result"
    }
   ],
   "source": [
    "repeat(nums)"
   ]
  },
  {
   "cell_type": "code",
   "execution_count": null,
   "id": "824f1480",
   "metadata": {},
   "outputs": [],
   "source": []
  }
 ],
 "metadata": {
  "kernelspec": {
   "display_name": "Python 3 (ipykernel)",
   "language": "python",
   "name": "python3"
  },
  "language_info": {
   "codemirror_mode": {
    "name": "ipython",
    "version": 3
   },
   "file_extension": ".py",
   "mimetype": "text/x-python",
   "name": "python",
   "nbconvert_exporter": "python",
   "pygments_lexer": "ipython3",
   "version": "3.9.7"
  }
 },
 "nbformat": 4,
 "nbformat_minor": 5
}
